{
 "metadata": {
  "language_info": {
   "codemirror_mode": {
    "name": "ipython",
    "version": 3
   },
   "file_extension": ".py",
   "mimetype": "text/x-python",
   "name": "python",
   "nbconvert_exporter": "python",
   "pygments_lexer": "ipython3",
   "version": "3.8.5"
  },
  "orig_nbformat": 2,
  "kernelspec": {
   "name": "python3",
   "display_name": "Python 3.8.5 64-bit ('streamlit-theme-generator-qgC17NTi': pipenv)",
   "metadata": {
    "interpreter": {
     "hash": "3796a2163982efa35a37cc99797cb34aedd71c7e54af00f18f817df8e20990e0"
    }
   }
  }
 },
 "nbformat": 4,
 "nbformat_minor": 2,
 "cells": [
  {
   "cell_type": "code",
   "execution_count": 39,
   "metadata": {},
   "outputs": [],
   "source": [
    "import requests\n",
    "import numpy as np\n",
    "import matplotlib.pyplot as plt"
   ]
  },
  {
   "cell_type": "code",
   "execution_count": 144,
   "metadata": {},
   "outputs": [],
   "source": [
    "res = requests.get('http://colormind.io/api/', json={\"model\":\"ui\"})"
   ]
  },
  {
   "cell_type": "code",
   "execution_count": 145,
   "metadata": {},
   "outputs": [
    {
     "output_type": "execute_result",
     "data": {
      "text/plain": [
       "200"
      ]
     },
     "metadata": {},
     "execution_count": 145
    }
   ],
   "source": [
    "res.status_code"
   ]
  },
  {
   "cell_type": "code",
   "execution_count": 146,
   "metadata": {},
   "outputs": [
    {
     "output_type": "execute_result",
     "data": {
      "text/plain": [
       "[[247, 244, 245], [181, 108, 96], [208, 153, 112], [132, 74, 75], [52, 54, 77]]"
      ]
     },
     "metadata": {},
     "execution_count": 146
    }
   ],
   "source": [
    "rgb_colors = res.json()[\"result\"]\n",
    "rgb_colors"
   ]
  },
  {
   "cell_type": "code",
   "execution_count": 147,
   "metadata": {},
   "outputs": [
    {
     "output_type": "display_data",
     "data": {
      "text/plain": "<Figure size 432x288 with 5 Axes>",
      "image/svg+xml": "<?xml version=\"1.0\" encoding=\"utf-8\" standalone=\"no\"?>\n<!DOCTYPE svg PUBLIC \"-//W3C//DTD SVG 1.1//EN\"\n  \"http://www.w3.org/Graphics/SVG/1.1/DTD/svg11.dtd\">\n<!-- Created with matplotlib (https://matplotlib.org/) -->\n<svg height=\"72.124138pt\" version=\"1.1\" viewBox=\"0 0 349.2 72.124138\" width=\"349.2pt\" xmlns=\"http://www.w3.org/2000/svg\" xmlns:xlink=\"http://www.w3.org/1999/xlink\">\n <metadata>\n  <rdf:RDF xmlns:cc=\"http://creativecommons.org/ns#\" xmlns:dc=\"http://purl.org/dc/elements/1.1/\" xmlns:rdf=\"http://www.w3.org/1999/02/22-rdf-syntax-ns#\">\n   <cc:Work>\n    <dc:type rdf:resource=\"http://purl.org/dc/dcmitype/StillImage\"/>\n    <dc:date>2021-03-25T20:05:28.233729</dc:date>\n    <dc:format>image/svg+xml</dc:format>\n    <dc:creator>\n     <cc:Agent>\n      <dc:title>Matplotlib v3.3.2, https://matplotlib.org/</dc:title>\n     </cc:Agent>\n    </dc:creator>\n   </cc:Work>\n  </rdf:RDF>\n </metadata>\n <defs>\n  <style type=\"text/css\">*{stroke-linecap:butt;stroke-linejoin:round;}</style>\n </defs>\n <g id=\"figure_1\">\n  <g id=\"patch_1\">\n   <path d=\"M 0 72.124138 \nL 349.2 72.124138 \nL 349.2 0 \nL 0 0 \nz\n\" style=\"fill:none;\"/>\n  </g>\n  <g id=\"axes_1\">\n   <g clip-path=\"url(#pfeb0c57185)\">\n    <image height=\"58\" id=\"image0775007a2f\" transform=\"scale(1 -1)translate(0 -58)\" width=\"58\" x=\"7.2\" xlink:href=\"data:image/png;base64,\niVBORw0KGgoAAAANSUhEUgAAADoAAAA6CAYAAADhu0ooAAAAYUlEQVR4nO3PwQ2AIADAQGT/cTE+ZQtMzt4E7fWs+x0/ML8OOKVRTaOaRjWNahrVNKppVNOoplFNo5pGNY1qGtU0qmlU06imUU2jmkY1jWoa1TSqaVTTqKZRTaOaRjWNajaHcgRTLaEu/gAAAABJRU5ErkJggg==\" y=\"-6.924138\"/>\n   </g>\n  </g>\n  <g id=\"axes_2\">\n   <g clip-path=\"url(#pb1eb35b41e)\">\n    <image height=\"58\" id=\"image521f354893\" transform=\"scale(1 -1)translate(0 -58)\" width=\"58\" x=\"76.468966\" xlink:href=\"data:image/png;base64,\niVBORw0KGgoAAAANSUhEUgAAADoAAAA6CAYAAADhu0ooAAAAYklEQVR4nO3PARGAIADAQCQpAaxnPmmBd+8+wXY993rHD8yvA05pVNOoplFNo5pGNY1qGtU0qmlU06imUU2jmkY1jWoa1TSqaVTTqKZRTaOaRjWNahrVNKppVNOoplFNo5oNJVUC9JC2VDMAAAAASUVORK5CYII=\" y=\"-6.924138\"/>\n   </g>\n  </g>\n  <g id=\"axes_3\">\n   <g clip-path=\"url(#pf3cc14d795)\">\n    <image height=\"58\" id=\"image1de53fba00\" transform=\"scale(1 -1)translate(0 -58)\" width=\"58\" x=\"145.737931\" xlink:href=\"data:image/png;base64,\niVBORw0KGgoAAAANSUhEUgAAADoAAAA6CAYAAADhu0ooAAAAYklEQVR4nO3PARGAIADAQCQxdWxlI2mBd+8+wXY993rHD8yvA05pVNOoplFNo5pGNY1qGtU0qmlU06imUU2jmkY1jWoa1TSqaVTTqKZRTaOaRjWNahrVNKppVNOoplFNo5oNSy4DTAgqsHgAAAAASUVORK5CYII=\" y=\"-6.924138\"/>\n   </g>\n  </g>\n  <g id=\"axes_4\">\n   <g clip-path=\"url(#pa9c98b6907)\">\n    <image height=\"58\" id=\"imagee8ee98c8ee\" transform=\"scale(1 -1)translate(0 -58)\" width=\"58\" x=\"215.006897\" xlink:href=\"data:image/png;base64,\niVBORw0KGgoAAAANSUhEUgAAADoAAAA6CAYAAADhu0ooAAAAYUlEQVR4nO3PARGAIADAQCQe1rK3tMC7d59gu551v+MH5tcBpzSqaVTTqKZRTaOaRjWNahrVNKppVNOoplFNo5pGNY1qGtU0qmlU06imUU2jmkY1jWoa1TSqaVTTqKZRzQayrwKMahBZogAAAABJRU5ErkJggg==\" y=\"-6.924138\"/>\n   </g>\n  </g>\n  <g id=\"axes_5\">\n   <g clip-path=\"url(#pb1d0bb0243)\">\n    <image height=\"58\" id=\"imagefcdd76ce26\" transform=\"scale(1 -1)translate(0 -58)\" width=\"58\" x=\"284.275862\" xlink:href=\"data:image/png;base64,\niVBORw0KGgoAAAANSUhEUgAAADoAAAA6CAYAAADhu0ooAAAAYklEQVR4nO3PAQ2AMADAsHNNDy7wL4e7OElZFWzXup93/MD8OuCURjWNahrVNKppVNOoplFNo5pGNY1qGtU0qmlU06imUU2jmkY1jWoa1TSqaVTTqKZRTaOaRjWNahrVNKrZfKECKjAfmrkAAAAASUVORK5CYII=\" y=\"-6.924138\"/>\n   </g>\n  </g>\n </g>\n <defs>\n  <clipPath id=\"pfeb0c57185\">\n   <rect height=\"57.724138\" width=\"57.724138\" x=\"7.2\" y=\"7.2\"/>\n  </clipPath>\n  <clipPath id=\"pb1eb35b41e\">\n   <rect height=\"57.724138\" width=\"57.724138\" x=\"76.468966\" y=\"7.2\"/>\n  </clipPath>\n  <clipPath id=\"pf3cc14d795\">\n   <rect height=\"57.724138\" width=\"57.724138\" x=\"145.737931\" y=\"7.2\"/>\n  </clipPath>\n  <clipPath id=\"pa9c98b6907\">\n   <rect height=\"57.724138\" width=\"57.724138\" x=\"215.006897\" y=\"7.2\"/>\n  </clipPath>\n  <clipPath id=\"pb1d0bb0243\">\n   <rect height=\"57.724138\" width=\"57.724138\" x=\"284.275862\" y=\"7.2\"/>\n  </clipPath>\n </defs>\n</svg>\n",
      "image/png": "[encoded data removed]"
     },
     "metadata": {
      "needs_background": "light"
     }
    }
   ],
   "source": [
    "fig, axes = plt.subplots(1, 5)\n",
    "for ax, col in zip(axes, rgb_colors):\n",
    "    image = np.zeros((300, 300, 3), np.uint8)\n",
    "    image[:] = col\n",
    "    ax.imshow(image)\n",
    "    ax.axis(\"off\")"
   ]
  },
  {
   "cell_type": "code",
   "execution_count": 148,
   "metadata": {},
   "outputs": [],
   "source": [
    "def clamp(x): \n",
    "    return max(0, min(x, 255))\n",
    "\n",
    "def rgb2hex(r, g, b):\n",
    "    return \"#{0:02x}{1:02x}{2:02x}\".format(clamp(r), clamp(g), clamp(b))\n"
   ]
  },
  {
   "cell_type": "code",
   "execution_count": 149,
   "metadata": {},
   "outputs": [
    {
     "output_type": "execute_result",
     "data": {
      "text/plain": [
       "['#f7f4f5', '#b56c60', '#d09970', '#844a4b', '#34364d']"
      ]
     },
     "metadata": {},
     "execution_count": 149
    }
   ],
   "source": [
    "hex_colors = [rgb2hex(*rgb) for rgb in res.json()[\"result\"]]\n",
    "hex_colors"
   ]
  },
  {
   "cell_type": "code",
   "execution_count": 150,
   "metadata": {},
   "outputs": [],
   "source": [
    "template = \"\"\"\n",
    "[theme]\n",
    "primaryColor = \"{}\"\n",
    "backgroundColor = \"{}\"\n",
    "secondaryBackgroundColor = \"{}\"\n",
    "textColor = \"{}\"\n",
    "font = \"sans serif\"\n",
    "\"\"\""
   ]
  },
  {
   "cell_type": "code",
   "execution_count": 151,
   "metadata": {},
   "outputs": [
    {
     "output_type": "stream",
     "name": "stdout",
     "text": [
      "\n[theme]\nprimaryColor = \"#844a4b\"\nbackgroundColor = \"#f7f4f5\"\nsecondaryBackgroundColor = \"#b56c60\"\ntextColor = \"#34364d\"\nfont = \"sans serif\"\n\n"
     ]
    }
   ],
   "source": [
    "config = template.format(hex_colors[3], hex_colors[0], hex_colors[1], hex_colors[4])\n",
    "print(config)"
   ]
  },
  {
   "cell_type": "code",
   "execution_count": 152,
   "metadata": {},
   "outputs": [],
   "source": [
    "with open(\".streamlit/config.toml\", \"w\") as f:\n",
    "    f.write(config)"
   ]
  },
  {
   "cell_type": "code",
   "execution_count": null,
   "metadata": {},
   "outputs": [],
   "source": []
  },
  {
   "cell_type": "code",
   "execution_count": 183,
   "metadata": {},
   "outputs": [
    {
     "output_type": "stream",
     "name": "stdout",
     "text": [
      "\n[theme]\nprimaryColor = \"#8d7f51\"\nbackgroundColor = \"#f9f9f8\"\nsecondaryBackgroundColor = \"#9ea969\"\ntextColor = \"#425228\"\nfont = \"sans serif\"\n\n"
     ]
    },
    {
     "output_type": "display_data",
     "data": {
      "text/plain": "<Figure size 432x288 with 5 Axes>",
      "image/svg+xml": "<?xml version=\"1.0\" encoding=\"utf-8\" standalone=\"no\"?>\n<!DOCTYPE svg PUBLIC \"-//W3C//DTD SVG 1.1//EN\"\n  \"http://www.w3.org/Graphics/SVG/1.1/DTD/svg11.dtd\">\n<!-- Created with matplotlib (https://matplotlib.org/) -->\n<svg height=\"72.124138pt\" version=\"1.1\" viewBox=\"0 0 349.2 72.124138\" width=\"349.2pt\" xmlns=\"http://www.w3.org/2000/svg\" xmlns:xlink=\"http://www.w3.org/1999/xlink\">\n <metadata>\n  <rdf:RDF xmlns:cc=\"http://creativecommons.org/ns#\" xmlns:dc=\"http://purl.org/dc/elements/1.1/\" xmlns:rdf=\"http://www.w3.org/1999/02/22-rdf-syntax-ns#\">\n   <cc:Work>\n    <dc:type rdf:resource=\"http://purl.org/dc/dcmitype/StillImage\"/>\n    <dc:date>2021-03-25T20:10:10.883251</dc:date>\n    <dc:format>image/svg+xml</dc:format>\n    <dc:creator>\n     <cc:Agent>\n      <dc:title>Matplotlib v3.3.2, https://matplotlib.org/</dc:title>\n     </cc:Agent>\n    </dc:creator>\n   </cc:Work>\n  </rdf:RDF>\n </metadata>\n <defs>\n  <style type=\"text/css\">*{stroke-linecap:butt;stroke-linejoin:round;}</style>\n </defs>\n <g id=\"figure_1\">\n  <g id=\"patch_1\">\n   <path d=\"M 0 72.124138 \nL 349.2 72.124138 \nL 349.2 0 \nL 0 0 \nz\n\" style=\"fill:none;\"/>\n  </g>\n  <g id=\"axes_1\">\n   <g clip-path=\"url(#p375d125d46)\">\n    <image height=\"58\" id=\"imaged9c1caebdd\" transform=\"scale(1 -1)translate(0 -58)\" width=\"58\" x=\"7.2\" xlink:href=\"data:image/png;base64,\niVBORw0KGgoAAAANSUhEUgAAADoAAAA6CAYAAADhu0ooAAAAYElEQVR4nO3PwRGAIADAMGT/geGlW8BdbCZon73XO35g3g44pVFNo5pGNY1qGtU0qmlU06imUU2jmkY1jWoa1TSqaVTTqKZRTaOaRjWNahrVNKppVNOoplFNo5pGNY1qPpdfBF1rbgvYAAAAAElFTkSuQmCC\" y=\"-6.924138\"/>\n   </g>\n  </g>\n  <g id=\"axes_2\">\n   <g clip-path=\"url(#p8cf32e9366)\">\n    <image height=\"58\" id=\"image50c92b3020\" transform=\"scale(1 -1)translate(0 -58)\" width=\"58\" x=\"76.468966\" xlink:href=\"data:image/png;base64,\niVBORw0KGgoAAAANSUhEUgAAADoAAAA6CAYAAADhu0ooAAAAYklEQVR4nO3PwRGAIADAMGRblvLvlLIF3sVmgva6n/WOH5hfB5zSqKZRTaOaRjWNahrVNKppVNOoplFNo5pGNY1qGtU0qmlU06imUU2jmkY1jWoa1TSqaVTTqKZRTaOaRjUb1nQDI1EW5ssAAAAASUVORK5CYII=\" y=\"-6.924138\"/>\n   </g>\n  </g>\n  <g id=\"axes_3\">\n   <g clip-path=\"url(#p98af40f265)\">\n    <image height=\"58\" id=\"image6f1cfe228a\" transform=\"scale(1 -1)translate(0 -58)\" width=\"58\" x=\"145.737931\" xlink:href=\"data:image/png;base64,\niVBORw0KGgoAAAANSUhEUgAAADoAAAA6CAYAAADhu0ooAAAAYUlEQVR4nO3PAQ3AIADAMI5/Ebi4vOOCJ6NVsD3rXd+4wPw74BSjNUZrjNYYrTFaY7TGaI3RGqM1RmuM1hitMVpjtMZojdEaozVGa4zWGK0xWmO0xmiN0RqjNUZrjNYYrdl6mANqrGAXGwAAAABJRU5ErkJggg==\" y=\"-6.924138\"/>\n   </g>\n  </g>\n  <g id=\"axes_4\">\n   <g clip-path=\"url(#p4c4daf9193)\">\n    <image height=\"58\" id=\"imagea5903190b3\" transform=\"scale(1 -1)translate(0 -58)\" width=\"58\" x=\"215.006897\" xlink:href=\"data:image/png;base64,\niVBORw0KGgoAAAANSUhEUgAAADoAAAA6CAYAAADhu0ooAAAAYklEQVR4nO3PARGAIADAQKQhiUxgZmmBd+8+wXY993rHD8yvA05pVNOoplFNo5pGNY1qGtU0qmlU06imUU2jmkY1jWoa1TSqaVTTqKZRTaOaRjWNahrVNKppVNOoplFNo5oNuKQC0LKUuf8AAAAASUVORK5CYII=\" y=\"-6.924138\"/>\n   </g>\n  </g>\n  <g id=\"axes_5\">\n   <g clip-path=\"url(#pc0254c776d)\">\n    <image height=\"58\" id=\"imagec086d7b962\" transform=\"scale(1 -1)translate(0 -58)\" width=\"58\" x=\"284.275862\" xlink:href=\"data:image/png;base64,\niVBORw0KGgoAAAANSUhEUgAAADoAAAA6CAYAAADhu0ooAAAAY0lEQVR4nO3PARGAIADAQCQNOYxg/y7SAu/efYLtup/1jh+YXwec0qimUU2jmkY1jWoa1TSqaVTTqKZRTaOaRjWNahrVNKppVNOoplFNo5pGNY1qGtU0qmlU06imUU2jmkY1G4TLAi8agV/OAAAAAElFTkSuQmCC\" y=\"-6.924138\"/>\n   </g>\n  </g>\n </g>\n <defs>\n  <clipPath id=\"p375d125d46\">\n   <rect height=\"57.724138\" width=\"57.724138\" x=\"7.2\" y=\"7.2\"/>\n  </clipPath>\n  <clipPath id=\"p8cf32e9366\">\n   <rect height=\"57.724138\" width=\"57.724138\" x=\"76.468966\" y=\"7.2\"/>\n  </clipPath>\n  <clipPath id=\"p98af40f265\">\n   <rect height=\"57.724138\" width=\"57.724138\" x=\"145.737931\" y=\"7.2\"/>\n  </clipPath>\n  <clipPath id=\"p4c4daf9193\">\n   <rect height=\"57.724138\" width=\"57.724138\" x=\"215.006897\" y=\"7.2\"/>\n  </clipPath>\n  <clipPath id=\"pc0254c776d\">\n   <rect height=\"57.724138\" width=\"57.724138\" x=\"284.275862\" y=\"7.2\"/>\n  </clipPath>\n </defs>\n</svg>\n",
      "image/png": "[encoded data removed]"
     },
     "metadata": {
      "needs_background": "light"
     }
    }
   ],
   "source": [
    "# All in one cell.\n",
    "\n",
    "import requests\n",
    "import numpy as np\n",
    "import matplotlib.pyplot as plt\n",
    "\n",
    "def clamp(x): \n",
    "    return max(0, min(x, 255))\n",
    "\n",
    "def rgb2hex(r, g, b):\n",
    "    return \"#{0:02x}{1:02x}{2:02x}\".format(clamp(r), clamp(g), clamp(b))\n",
    "\n",
    "CONFIG_TEMPLATE = \"\"\"\n",
    "[theme]\n",
    "primaryColor = \"{}\"\n",
    "backgroundColor = \"{}\"\n",
    "secondaryBackgroundColor = \"{}\"\n",
    "textColor = \"{}\"\n",
    "font = \"sans serif\"\n",
    "\"\"\"\n",
    "\n",
    "def apply_random_theme():\n",
    "    res = requests.get('http://colormind.io/api/', json={\"model\":\"ui\"})\n",
    "    rgb_colors = res.json()[\"result\"]\n",
    "\n",
    "    fig, axes = plt.subplots(1, 5)\n",
    "    for ax, col in zip(axes, rgb_colors):\n",
    "        image = np.zeros((300, 300, 3), np.uint8)\n",
    "        image[:] = col\n",
    "        ax.imshow(image)\n",
    "        ax.axis(\"off\")\n",
    "\n",
    "    hex_colors = [rgb2hex(*rgb) for rgb in res.json()[\"result\"]]\n",
    "    config = CONFIG_TEMPLATE.format(hex_colors[3], hex_colors[0], hex_colors[1], hex_colors[4])\n",
    "    print(config)\n",
    "\n",
    "    with open(\".streamlit/config.toml\", \"w\") as f:\n",
    "        f.write(config)\n",
    "\n",
    "apply_random_theme()"
   ]
  },
  {
   "cell_type": "code",
   "execution_count": null,
   "metadata": {},
   "outputs": [],
   "source": []
  },
  {
   "cell_type": "code",
   "execution_count": 1,
   "metadata": {},
   "outputs": [],
   "source": []
  },
  {
   "cell_type": "code",
   "execution_count": 2,
   "metadata": {},
   "outputs": [],
   "source": [
    "import requests\n",
    "\n",
    "url = \"https://upload.wikimedia.org/wikipedia/commons/thumb/4/40/7-eleven_logo.svg/272px-7-eleven_logo.svg.png\"\n",
    "res = requests.get(url)"
   ]
  },
  {
   "cell_type": "code",
   "execution_count": 9,
   "metadata": {},
   "outputs": [
    {
     "output_type": "execute_result",
     "data": {
      "text/plain": [
       "['__attrs__',\n",
       " '__bool__',\n",
       " '__class__',\n",
       " '__delattr__',\n",
       " '__dict__',\n",
       " '__dir__',\n",
       " '__doc__',\n",
       " '__enter__',\n",
       " '__eq__',\n",
       " '__exit__',\n",
       " '__format__',\n",
       " '__ge__',\n",
       " '__getattribute__',\n",
       " '__getstate__',\n",
       " '__gt__',\n",
       " '__hash__',\n",
       " '__init__',\n",
       " '__init_subclass__',\n",
       " '__iter__',\n",
       " '__le__',\n",
       " '__lt__',\n",
       " '__module__',\n",
       " '__ne__',\n",
       " '__new__',\n",
       " '__nonzero__',\n",
       " '__reduce__',\n",
       " '__reduce_ex__',\n",
       " '__repr__',\n",
       " '__setattr__',\n",
       " '__setstate__',\n",
       " '__sizeof__',\n",
       " '__str__',\n",
       " '__subclasshook__',\n",
       " '__weakref__',\n",
       " '_content',\n",
       " '_content_consumed',\n",
       " '_next',\n",
       " 'apparent_encoding',\n",
       " 'close',\n",
       " 'connection',\n",
       " 'content',\n",
       " 'cookies',\n",
       " 'elapsed',\n",
       " 'encoding',\n",
       " 'headers',\n",
       " 'history',\n",
       " 'is_permanent_redirect',\n",
       " 'is_redirect',\n",
       " 'iter_content',\n",
       " 'iter_lines',\n",
       " 'json',\n",
       " 'links',\n",
       " 'next',\n",
       " 'ok',\n",
       " 'raise_for_status',\n",
       " 'raw',\n",
       " 'reason',\n",
       " 'request',\n",
       " 'status_code',\n",
       " 'text',\n",
       " 'url']"
      ]
     },
     "metadata": {},
     "execution_count": 9
    }
   ],
   "source": [
    "dir(res)"
   ]
  },
  {
   "cell_type": "code",
   "execution_count": 13,
   "metadata": {},
   "outputs": [
    {
     "output_type": "execute_result",
     "data": {
      "text/plain": [
       "'�PNG\\r\\n\\x1a\\n\\x00\\x00\\x00\\rIHDR\\x00\\x00\\x01\\x10\\x00\\x00\\x01\\x08\\x08\\x06\\x00\\x00\\x00����\\x00\\x00\\x00\\x04gAMA\\x00\\x00��\\x0b�a\\x05\\x00\\x00\\x00 cHRM\\x00\\x00z&\\x00\\x00��\\x00\\x00�\\x00\\x00\\x00��\\x00\\x00u0\\x00\\x00�`\\x00\\x00:�\\x00\\x00\\x17p��Q<\\x00\\x00\\x00\\x06bKGD\\x00�\\x00�\\x00�����\\x00\\x00\\x00\\x07tIME\\x07�\\x02\\x13\\n\\r\\tn��\\x07\\x00\\x00\\x1b�IDATx��w�T��Ɵ;ugwv�e\\x0b�T�.(E�Ć��\\x18\\x15�ĖD\\x14Ę�1�\\x18\\x1b��X�?�\\x04\\x05�\\'*`!\\x16�~Dc�Ċ1\\x16�(*b\\x05��mz�7\\x7f`\\x01��wggn9���\\x07�3;s�{�s��=瞣��Y\\x1a\\x08!��D]�\\x01!$[( �\\x10\\n\\x08!�\\x02B\\x08��\\x10B( �\\x10B\\x01!�P@\\x08!\\x14\\x10B\\x08\\x05�\\x10B\\x01!�\\x10\\n\\x08!�\\x02B\\x08q\\n\\x1e���R\\x7f\\x00.�zFȮ\\x08%cH�*\\x05�[&�Q��F�ǑC�B��2\\x04<>�%��\\x06U��\\x10��;u_`��w��w\\x10N&,�]������\\x1e�ۦ��I{�� $K�B���\\n,[�\\x1a\\x1a,��\\'j���8j<�M?�n��\\x1c�t�\\x1b8��HfҖ\\x08�iE�\\x19c\\x0eģ\\'�C� $��1� <vҹp)�%�o���[3\\x08���\\x0eŢN\\x12\"2�F�Õ�L\\x15W@\\x16\\x1e;�\\u0383�<r�!S1��J<\\x01�:|\\x1c~�o0�0!y��r�O���\\' g�;�W�\\x10\\x138q�x\\x14z�u�y\\x15\\x10�ۃ#\\x07��%�\\x04\\x02\\x1e\\x1f�����W\\x01\\x19\\\\V�\\x12\\x7f�W�\\x10�\\x18[=@\\x1c\\x01�\\x0e��\\x12b\"5&���\\n����\\x15%��4F�\\x1aH}��W�\\x10\\x13�\\x1aj\\x17G@�L�\\x0c!�\\x0b��\\x0f��\\nHs4����U%�\\x0e��hИ�\\x10B\\x07�\\x13E��\\x10B\\x07��\"��\\x12b\\x12��N:\\x10BH�i�G\\x11K\\'�@\\x08!ٌ5�\\x1f�y\\x17\\x10N�\\x12b��X0�\\\\\"v�\\x10:\\x10aR\\x18�@\\x08�\\x03a\\nC\\x08\\x1d��\\x02�\\x18��8�Ё8@@TMCc��W�\\x10:�l;�4�\\x10:��;�B*��t�ү\\x17ց��JDFkiC�ֻ\\x10�y�e�!�J�3\\x113�{M�2�)\\x0c\\x11\\x11uS\\x1d��<���\\x15�bqx�\\x19m�o��!m���(�I��\\x08�8+D��\\x04zý�qP|E�?��d#�\\x0b�G�g��=����!-�\\x03I��\\x19P�\\x1c9���S\\x0bτ���=\\r��\\r}&��#�\\x17܋�3/\\x02�f��X���\\u0381\\x10Ʌ�j\\x04<\\x07�\\r���b�\\x04�z�m��-D��wm�/�\\x1d����<�[�T��\\x1e�\\x1dq\\x19ܵS\\x00\\x18�\\x072\\x1f\\x7f��틐\\\\����\\'�\\x03i�t@�4�8x�������W�\\x1e|.�6v�A���\\x11�e�-S\\x15)\\x1dHZU�\\x14\\r�OQ\\tohb��p�3�\\x04x\\'ρRTa�#ꖭ�Ϳ\\x07��=\\x01d�Uh\\x17ځl�`�M\\x04�.Ht܃������6vN��҆آ��/~\\x10H&\\x1d�g�\\x1dȶ\\x0ev`�-�L\\x14\\x10aMG�@�&ρ��hc�\\x11�#��^�\\x17-�\\x16�;���;\\x10�F%y��g�\\x0c�\\x0e�#`p=G��W\\x10��\\x17���\\x1c��d&��XD�\\x14�&�)\\x0e8����\\x16��7��w����\\x0f>F�O7\"��{�Ġ>�\\x01\\r�\\x14{MMa\\x08ɥ����+x\\'�\\x01p{�ӕ�\\x0e�n�\\x1b��\\x1dW ��ؒρ�\\x06�|����m��b�~�t\\x1a� v�Bh�!!�a��b\\r�8\\x07o\\x00�C~\\x07�\\x01g\\x03�[_;�z\\x0f����̧�\\x0b\\x1d\\x169\\x1c�]R\\x18�Ł�@�C\\'�w�\\rPJ��+�8b�ݍ��K\\x00\\t�Ӕ\\x81ԇ;�i\\x1a\\x14�\\x10�[w�\\x1f�#.�g�,\\x18)��V�����AݲU�\\x10I�@��4Zb\\x11T\\x14\\x069(�!\\\\���>\\x1f�>�����\\x13�\\x1bnG�ǥ��\\x14\\x0ed�R�[. \\n\\x00�c��(���s���\\x0bx\\x03�\\x0f��/ r���Zڤ��\\x14\\x0ed�Rv`tU\\x7f�\\x0f�{�(*�o��p\\x0f;\\\\��Z߈�%� ��5�c&�\\x03��L\\x0ck0��=x\"|��\\x02%X��:�{\\t������.u�TMCSԺ�i�S\\x18;�cb3�Q(��\\t�n�\\x1d��\\x1eb�`��m��0t d{\\\\U#���\\x1dpU\\x0e�m�~\\x7f=\"��\\x14�Ͽb�{([;�$t �6�c�t���\\x1e�\\x16v�P�\\x10��aD��\\x15H�\\x18�\\x1d\\x1e�֎)�j �z�>�&_\\x06τ3�s��fD.����o0n�;\\x10[\\x08\\x08S\\x18K�_�\\x17��-���8ݶ�WV#��ˤ/�ҁl����Fe\\r�:�1t\\x12|��\\n��T?e��~Do�/ܛ�t = �N�=\\x11EYA\\x11��dx&̂�+u_��\"QD�0wۆƄ\\x0e�\\x1d�X@�@̽���\\x1d{\\x03<c~��4���\\x08Ͼ\\x00�O62n\\x0eq ����B�<(��(8�QC�Z�\\x1a:��\\x05Ń\\x0eDO1-\\x16\\x10�@�y2�\\x1d\\x0b����\\x1f��m����R�z�K4MCC�S�\\x14����v\\n�\\'ܮ�\"\\\\*���W\"��?\\x18�,h�G\\x11O[�.F>\\x07B�{CM���-Z�����\\x10Bg�\\x1e�\\x7f�à9x,�. ��@���)�n��\\\\\\x05�~g�6U\\x1b�\\x10:�<d>��qs��g\\nCr��x��W�G\\x1e��4��3�N;\\x07j]=��\\U00107c5c)\\x0c\\x1dHN�\\x16�\\x7f�\"�\\x07O�m�Z�\\x1f�g_\\x00-\\x14f�\\x04Ia8�K���R\\x14���!�H>�\"�3Σx\\x08��M\\x17�h*��D�»����$�����|\\x1c����M,\\x7f\\x02�s.��H0pt ��8� �\\x16��\\x1a\\x14��7�*����+\\x10���\\\\�A\\x07�4�\\x00JQ\\x05��|\\x00J�=���e�R<\\x04v \\x1eK:n��p\\x1a�g�1c��#%\\x13\\x0f=�M<4\\ue05f/��\\x12N�Z��P@��Z�\\x12��\\x1f��|��x<�\\x18\"�_G��#�d\\x1c��5%kj La�%\\x1e�\"�\\x7f�Ęx<�(�C�1$_\\r�)L7�\\x10\\x0f|\\'�\\x05W�^��c��\\x14\\x0f�]��\\x0e��0N�\\x1e�\\x1dw#�C\\x0e�m�z�\\x15D����A\\x07\"x��@\\x0c�t!<cO�m�^�\\x0e�s/\\x06�\\x19\\x06�\\x0eD�\\x14�OHC��\\x1d\\x01���u�e6|�Ќs���\\x0c\\x1a\\x1d�9XZA�\\x03�\\x0fQi?���\\x07�\\x19�oߪ�ڙ�ҁ�\\x1e\\x00�\\x14�\\x02�%\\x1e?�\\'-�\\x12(��ȅ�\\x08�8\\x17��:��\\x12\\x07\"��X\\x15\\x00:�.�M�\\x1c����n�J!4�wȬ��\\x01��\\x01,�\\x03!��\\x19���g�\\x0c�v��n�Nbt �:\\x10��;�\\x03߱7�ے|b%\\x12\\x0f<�xYH\"�F{<j��W6\\x07�\\x1e8\\x01Z�\\x1e�\\x0bw֏!\\x13u\\x17�e�\\x7f���Zb��h�\\x06{�&Z& VM�����w`\\x16h�\\x1d\\x08�u!�k�  6Z��\\x14�裪\\x08�\\x7f9ԯ73\\x166q \\x14\\x10\\x16Q\\x1dCl�\\x02���:\\x03��@��\\x17��ǘ4v���.�!�#���\\x11�c1\\x03�+�^��N���\\x13�=`<�2�yl\\'\\x07b���ǣ���\\x08x|�\\x11m��\\x19B�k��\\x7fg|>�O����φ�o�\\x05�\\x0e�\\x1b%���Jސ6%r��P�60\\x10�9�������3�,�p�Ё|���\\x14\\x10��|�9$�z���V;&��k.�{�\\x10�\\x7f\\x0b\\x1d�v\\x0e��\\x0f��\\t�+o` \\x00�\\x06�E��W�{�D��&:�o`!զ����@k���l*\\n��\\x03%Xd�ߔVU4G�s8��)\\x0c�\\x17��W �ҫr��>�(�w\\r��\\x1dl���\\x18�DF��1\\x19La�\\x0e�K��[���w��\\x08�y\\x13��2[�>�=t�@�w�n�]\\u07b3k\\x15\\x05\\x05��B\\u197f\\x03��=��n\\x0f]:\\x10�-�^�\\x0e�\\x15+�Ԏ`\\x11�\\x0bn���Cl�[�@��ET��.*�����S���;�\\x19=�\\x11��n\\x0f]K�Zk,�D&�\\x01l1�G�D��\\x1fH�ow�0�<��c�Î\\x0e�R\\x01Ѡ��|O��Ba���\\x0e���=`?�<�̒��t 9\\r\\x08�\\x18+��z\\x17Ԧ\\x16����\\x03\\x11|`���wЁd\\x1d\\x10:\\x10�P7�!��oR��w�$\\x14�?\\x1fJ�ߑ��nuC\\x0f\\x03\"��Xp\\x1f�J��<�<\\x14���\\x15�x\\x1c��5MCc$D\\x07�\\x14�\\x06\\ue8ee\\x1e�G�������\\x10\\\\x�c�\\x03\\x00�ca$m6��\\x14FR�\\x0b�\\x03�I)��\\x1e5\\x02��\\x16@\\t\\x148�\\x1fv|�ҁ��>�\\x1b�X�w)��\\x1a�\\x1f�\\x0f/�RR�����ak���\\x06b���\\x1fZ\"!|?�`\\x11��\\x0fWEo!�cǕ�Lads\\x1fM�H<��\\x04y�\\x0b�;o�{�Pa�d�w�,\\x17��h\\x08)5Ñm��X�\\x10������|�P}�\\x03��\\x13Q��\\x10���6�d\\x12�Gį}��=\\x12\\x05�\\x7f)\\\\��@\\x1c\\x14\\x18\\x11I<�\\x0c��V���\\x1a4\\x00E�\\x11�ot \\x0e\\n��\\x02�T�U�>\\x1f�w�\\x0c�8(��Ё�\\x1a�������^���}\\x0c��7��\\x19%l��9��\\x14�*��>%t��{�\"����#\\x11C4e��\\x7fLad �B�g�N]n������ǈ=\\x1f�t 2���^��*n�\\x03�̄�v���Ю�X\\x03�A@\\x04>a�U]���f\\x0b\\x7f\\r�@\\x1c\\x18\\x1c\\x11�bq��y)��B(�\\x01�\\x05�\\x0ed�4FB�:,G$R�^�\\x16�\\t�7Ϙ��;�\\x18)�#\\x1dH\\x17d4�v\\x1b�\\x08����%a�Vp��\\x01E�C@�@�Ƙ��*R��\\x16�k�j�;�Pi.%\\x1d�\\x0e,������=$;p�YҸ\\x0f:\\x10C\\x01���Ԫׄ엫�\\x02��\\x0f��Zҁ�\\x06���r. ��%d�|\\'\\x1f/��������Hس\\x10N\\x07\"(Z4�������\\x13$s\\x1f�}��\\x06\"(��\\x00i�\\ru\\x0f\\x1b\\x0c��Ar\\t��\\x1f�LaD\\x15���\\x15�_�I\\x07Iw-�@�\\x98/ k?\\x14S@\\x0e=P>\\x01�\\x03ѧ>�\\x01U�8�s��\\t[�p�\\x1aN\\x07B\\x01��\\x13SU�\\x1c�j�\\\\�n�\"��\\x0f%X\\x04We\\x05\\x1d����+P\\x1d�**�\\x02��@\\x00���\\x193+\\x1d���ZK��Xϧ!��^R-\\x1es�\\x03���ԅ�1��\\x00\\n@Omee9|�\\x1d�@Ёȓ�lS�v�-�8ȁ�K@xJ\\x1d!;�R3h����Ё\\x10\\x11\\x06�zԅڑH�Q�/���j�\\x04K���v���]\\r$�t$b��qsN�����~}�����t\\n�n����K�\\x01���o���iX�yc�c=��`x]nllmDG\"�۾WA!��Uu�&�J���]��(,Ơ�r\\x00����\\x11M���͑\\x15}�;P���}�Rox�o���\\x18�Ĳ���r�Z�\\u07b4q�ǰ\\x0e��\\x07��9\\x00��p�\\x0f�[���~\\x0e$�)�;u_`�y9��5�R�]t�w��\\x12j�������\\x0f\\x1a0\\x0c��y���iM���7,�\\x17݆�`)nz�Y,~�U\\x03��\\'�:kn�m���>Ny��.�����{�T\\x00�/V,�\\x15������ӑ?�����;\\x1e[����\\x1f�\\x7f\\x08VϾ\\x02�:[q�+Oc��7��t�J���\\r���Ob�۫�������9\\x1c\\x13�v�,�JΈ�jC�>hܢk��oؤ�w��\\x1eh�xh�p�ϣ��9��Wt�c{\\x1a#�8~�|��ه9\\x1c\\x13\\x1d\\x14��8\\x10��QM����P�h*���\\x1au\\x04D?]\\x1cgs\\x01��S��G�>�)�f0��ň��9\\x1a\\x13t �If�h�G8�Mdde���t\\x04b��\\x03)\\x0f\\x04ѿ���\\x01�r1�;�؇�ЁX��p*�L��U�\\x02��Pۮ\\x1cF{<�M\\x1d�]~~�\\x1a����+���ןҁX\\x01�\\x051�\\x06P\\x14\\x0c��ǘ\\x03�bFkm�&h:�o���\\x0e�Hn$�1��W\\x04�@\\x04S\\\\\\x111Z\\x07�*�1R@�{�c�|��]�\\\\�sD\\x07�\\x14�\\x01\\x02bl&泶FDv�n�H\\x01u�jy\\x1cH.P5-gN&_�ngZ+\\x15wڈq��ȓ�\\x0e��m�\\x0bZ\\x13,��3/�mWUT�m\\x07�j\\x1a>l�Ä~{�0���ځ\\x14z}\\x18VާG}{��P�+�M��\\x1eˇ����?��i#���r�ߛ?�-o>ozz�\\x14\\r!��\\x14��`e\\r�طmi������Q\\x01��\\x0e���d4\\x15\\x1f6m��sc�\\x0c�[��\\x1dRV�^\\x05�y7 ����Y�\\x0e��\\x0e\\x1c0\\x14\\'�\\x1a�\\x11w�A<�2э�?�g\\nC0��\\x1a���\\x7fWu������&�9\"}\\x01<.\\x17N\\x1f��m\\x13\\x07����Մ\\x13^.e\\x11����ǀ�ކ��X���\\x00N��\\x01\\n<��:%����B\\x07�\\x14Ff�\\x16RwU,\\x15e\\x06�~\\x0fS:�n\\x13O��\\x1e���1��\\x15}\\r�k��\\x7fpc�@��\\\\ػ�\\x1f�L\\x07B\\x17\"*#*�\\x17^wv\\x1czS��\\x155\\x08x|\\x0c��\\x0e�c���cTe_ӿ��O�a�EWw٦��\\x18ϟv�m/h}�C�\\x0f\\x00�\\x8c?��0�� 7ʺ�͘2do\\x00Ɩ��S��%�.�Qw&�)��=j�@�\\x16\\x10�fb��\\x11��w�2_>w��\\x05)5�5�_\\x1bj�c\\nӽ����\\x17�%��s3{ad�Z[L��1Y\\x03a\\n�\\x18���(+(��@6�\\x07H� \\x068\\x0b\\x1a\\x9d����\\x14\\x10N�Z��:�GMu߭�ԛ�U��,�p��\\x14�O@���\\x12�N�&2ilh�7�V\\x0c�U��}Be�)c�\\x0e�|�@ʻW\\x071����?�\\x1e\\x03t �;��;٧-\\r�K����\\x08=\\x06l9\\x0bcU\\x11���{�C�벍����\\x05�**��\\'��ۮ|\\x17iEw�r�o�l�\\x1e�+\\x7fq\\x01�>\\x7f�m��\\x14c��S\\x0eY��h��\\x12\\x08%㺯n�~�\\x15��A#\\x1c}��ݞ��0��\\n>���N��\\x1a7�@\\x05r�\\x0e�A\\x03���m\\\\�8\\x10�0�t!2�q�0���Pۯ�[��W�踜 \\x06��f`\\x05v �\\x15\\x10�\\x11c\\r#\\r�\\x00֠a�����/�\\t\\x08\\x1d�\\x1c\\n,\\x1aݩ��\\x1d4�W�y�3�!9bD\\x0ewd�\\x0c\\x0c\\x1d\\x08\\x03H\\x07���p\\t{V|;��\\x04l;\\'i��{��O0u�_�lS\\x1e\\x08b�\\t�������t�\\x03\\x00�~���d�\\x03Vs4l��/�~�.�}��f{C����\\x07<>\\x0c��&�;��\\x15�tc2g�q8��\\x10��\\x0f���\\x15\\x10\\x0b\\x1cȖP\\x1b��ںl�ӷq[c\\x11�ܰ�@}A�� ��IC\\x7f?���Tm�?����\\x1e��c����&�;���u�m��\\x0cٱ\\x02⠕ج��\\x1f`tw���\\x17�?dp ��!�Lcz\\n�p�@,�3\\x11C8���d\\x01#r  �څ�\\x0e�\\x02�5�t!�La�\\n7Q�%}����~�R��\\x1e\\x7f���M�����II��^(�\\x07��|��@e\\nc\\x7fl�nzO�ܨ�~X<mVN\\x7fS�NO֪���\\x7f\\x07��!�\\x1eŕ��߫`�\\x02�(\\n�:3��y�5����\\x7f��3�~�w�\\x1f��9�\\x1d����m��}����䠟\\x18ާt`i�/\\x11:Ɂ(�z�f�\\x1fw�A?�M�O�#�HC2�F�u���B>��2�!�N�|��)�\\x01�ETBl��t�=/t\\rDTR/����k�������w��\\x0e�\\x02�\\x14&�$�~\\x1e�\\'V\\n�G�葀�\\x02Ⰷ��S\\x18�\\x1c�c6ZK��}tU�˙�8́���\\x03�\\x1dp��٨M-��Q��T@�@�\\x0e�)\\x0e�Y\\x02\\x07RUA\\x07B\\x01�9,��\\x1e\\x1a��6����A)\\x0eҁP@r��\\x14�\\x1d���\\x03H��\\ue8eb�\\x1cP\\x14:\\x10\\nH.\\x14�31ۣ�P@-/���f4\\x15M�\\x10\\x05�\\x0e$�\\x02��,|\\x1f��^R^��H\\x08\\x19M���\\x12�@vJa$(�*%�r�/\\x0e�י�8́4K0�[Z\"��8p\\x03-�0Ns -m��QZ\\x01�\\x03�=-�\\x08\\x12�4�7\\x0eD�Ed�RIS\\x18:�<<q���{�n�@$��ЁP@dW�9\\x10\\x16Q�@( ݃31�9�v��T)*�\\x03���\\x1dؼ\\tHgX�N\\x06\\n�@( La�\" a�\\x05D\\t\\x04仮�3k}t N\"��\\x16��/ \\x05~�.mkܙ����8�)\\x15\\nI�OE�\\x14Ʃ\\x0b&��8J@�rtTF\\x01q�I�0N\\x12�N9\\x04D)�\\x03��䐦h\\x08)5C\\x01\\tK\" t \\x14�\\\\�j\\x1a\\x1a#�\\x1bU����]��K\\x07B\\x01a�s�@$(��8�K\\x07b\\x02����\\x06�Ⱥ��\\x0e�\\n�\\x7f\\x07�U�t \\x14\\x10�0�\\n�\\x0c�P\\x0b�\\x14��0\\x1d\\x08\\x15�)\\x0c\\x05$\\x0b:\\x131��\\t\\nH>a\\rD���RN�:�]3�qT\\n\\x13�����\\x1e��\\x17J2�q\\x12q�_���M\\x07B\\x01�=\\r�Nǝ��s\\x07�H��@<\\x12\\n\\x08\\x1dH�q�]9\\x17\\x10)\\x1c��\\x0e�\\x02�\\x1f�/�J�@@\\x07B\\x01�RӁd�@\\\\�]W:\\x10*�9�%��Ș�Ё0��\\x03a\\nC\\x07b�@K. 2�@\\\\r�0�t\\n�q��qX\\n#q\\rDӀTJ\\x02\\x07\"W\\n���\\x1e\\x1d��܇�\\t�O�ց8��G\\x07�\\x18�\\x1b�����0t &R\\x1f�*�Sx�\\x0eD\\x06dKa�@�#�f�\\x12\\x0bCJdq ��\\x0bC\\x07b2�N���@\\x14�\\x16�с0��\\x08H<!GG9\\x0bC\\x01�\\'\\r�\\x1e\\uf410D@$+�:��\\x12�]����5\\x10M�5 \\x12\\n���0w�����*�\\x03Q%�}R\\x14i.i2��\\x031�՛6�) \\x19\\x1e�)\\x1ao�}�D&M\\x011���~�f\\x19�\\x18U���$r ��|��3N��പ��5�R@��I�*\\x16����ؑ\\x15�;��\\x12\"��T7���Ł���\\x07�\\x7f\\x13�;�( V���\\rW�zB2\\x07\"G\\rD� �i��q�?\\x1f\\x13�/��3���?��\\x7fK$ r�\\x03$\\x1a�t\\x12\\'=���/�\\x17\\x10U�0��{��#\\r!�,��\\x0e�)\\x1a��������X�>9z�NJ��WO/����ş�Ͱ��TB�8\\x16��2��u\\x15^��C��&ċ\\x07Oo�/���_\\x0c(�a�}P\\x1e\\x08:�O��=\\x10�\\r\\x1f��\\x7fHs���\\x0e�?[�����9�\\'i5��;Z�q�Va��B�����U���?�?\\x18��{\\x01�g\\x16�{\\x01��ي�ֿM\\x0b�\\x14��<��JTB\\x01!٢r\\x1d\\x08��\\x10\\n\\x08��\\x10�S\\x18�\\x0bC( $K4�@�\\r�0\\x04��\\x7f�T���(�\\x01)�ŋM\\x01!9\\x1fX�A(�A\\x06�0�!�Ё�<\\x12K%�\\x16�H\\x1d\\x03ٶlp�3�ճ��\\'!$\\x1b�La\\x08!YC\\x01!�P@\\x08!\\x14\\x10B\\x08\\x05�\\x10\"\\x03\\x1e\\x00�\\x18\\x06BH��b�\\x03���V�(�\\x00\\x00\\x00%tEXtdate:create\\x002018-02-19T10:13:09+00:00�}z�\\x00\\x00\\x00%tEXtdate:modify\\x002018-02-19T10:13:09+00:00� �y\\x00\\x00\\x00\\x00IEND�B`�'"
      ]
     },
     "metadata": {},
     "execution_count": 13
    }
   ],
   "source": [
    "res.text"
   ]
  },
  {
   "cell_type": "code",
   "execution_count": 1,
   "metadata": {},
   "outputs": [],
   "source": [
    "from colorthief import ColorThief"
   ]
  },
  {
   "cell_type": "code",
   "execution_count": 8,
   "metadata": {},
   "outputs": [],
   "source": [
    "color_thief = ColorThief(\"/Users/jrieke/Desktop/272px-7-eleven_logo.svg.png\")"
   ]
  },
  {
   "cell_type": "code",
   "execution_count": 12,
   "metadata": {},
   "outputs": [],
   "source": [
    "col = color_thief.get_color()"
   ]
  },
  {
   "cell_type": "code",
   "execution_count": 13,
   "metadata": {},
   "outputs": [
    {
     "output_type": "execute_result",
     "data": {
      "text/plain": [
       "(-0.5, 299.5, 299.5, -0.5)"
      ]
     },
     "metadata": {},
     "execution_count": 13
    },
    {
     "output_type": "display_data",
     "data": {
      "text/plain": "<Figure size 432x288 with 1 Axes>",
      "image/svg+xml": "<?xml version=\"1.0\" encoding=\"utf-8\" standalone=\"no\"?>\n<!DOCTYPE svg PUBLIC \"-//W3C//DTD SVG 1.1//EN\"\n  \"http://www.w3.org/Graphics/SVG/1.1/DTD/svg11.dtd\">\n<svg height=\"231.84pt\" version=\"1.1\" viewBox=\"0 0 231.84 231.84\" width=\"231.84pt\" xmlns=\"http://www.w3.org/2000/svg\" xmlns:xlink=\"http://www.w3.org/1999/xlink\">\n <metadata>\n  <rdf:RDF xmlns:cc=\"http://creativecommons.org/ns#\" xmlns:dc=\"http://purl.org/dc/elements/1.1/\" xmlns:rdf=\"http://www.w3.org/1999/02/22-rdf-syntax-ns#\">\n   <cc:Work>\n    <dc:type rdf:resource=\"http://purl.org/dc/dcmitype/StillImage\"/>\n    <dc:date>2021-03-26T22:24:52.667655</dc:date>\n    <dc:format>image/svg+xml</dc:format>\n    <dc:creator>\n     <cc:Agent>\n      <dc:title>Matplotlib v3.4.0, https://matplotlib.org/</dc:title>\n     </cc:Agent>\n    </dc:creator>\n   </cc:Work>\n  </rdf:RDF>\n </metadata>\n <defs>\n  <style type=\"text/css\">*{stroke-linecap:butt;stroke-linejoin:round;}</style>\n </defs>\n <g id=\"figure_1\">\n  <g id=\"patch_1\">\n   <path d=\"M 0 231.84 \nL 231.84 231.84 \nL 231.84 0 \nL 0 0 \nz\n\" style=\"fill:none;\"/>\n  </g>\n  <g id=\"axes_1\">\n   <g clip-path=\"url(#p2d0e409444)\">\n    <image height=\"218\" id=\"imageda77be9f5e\" transform=\"scale(1 -1)translate(0 -218)\" width=\"218\" x=\"7.2\" xlink:href=\"data:image/png;base64,\niVBORw0KGgoAAAANSUhEUgAAANoAAADaCAYAAADAHVzbAAACe0lEQVR4nO3TwRGAIADAMOSOTR3FvWUK6sNkgn56red+B3DU/DoA/sBoEDAaBIwGAaNBwGgQMBoEjAYBo0HAaBAwGgSMBgGjQcBoEDAaBIwGAaNBwGgQMBoEjAYBo0HAaBAwGgSMBgGjQcBoEDAaBIwGAaNBwGgQMBoEjAYBo0HAaBAwGgSMBgGjQcBoEDAaBIwGAaNBwGgQMBoEjAYBo0HAaBAwGgSMBgGjQcBoEDAaBIwGAaNBwGgQMBoEjAYBo0HAaBAwGgSMBgGjQcBoEDAaBIwGAaNBwGgQMBoEjAYBo0HAaBAwGgSMBgGjQcBoEDAaBIwGAaNBwGgQMBoEjAYBo0HAaBAwGgSMBgGjQcBoEDAaBIwGAaNBwGgQMBoEjAYBo0HAaBAwGgSMBgGjQcBoEDAaBIwGAaNBwGgQMBoEjAYBo0HAaBAwGgSMBgGjQcBoEDAaBIwGAaNBwGgQMBoEjAYBo0HAaBAwGgSMBgGjQcBoEDAaBIwGAaNBwGgQMBoEjAYBo0HAaBAwGgSMBgGjQcBoEDAaBIwGAaNBwGgQMBoEjAYBo0HAaBAwGgSMBgGjQcBoEDAaBIwGAaNBwGgQMBoEjAYBo0HAaBAwGgSMBgGjQcBoEDAaBIwGAaNBwGgQMBoEjAYBo0HAaBAwGgSMBgGjQcBoEDAaBIwGAaNBwGgQMBoEjAYBo0HAaBAwGgSMBgGjQcBoEDAaBIwGAaNBwGgQMBoEjAYBo0HAaBAwGgSMBgGjQcBoEDAaBIwGAaNBwGgQMBoEjAYBo0HAaBAwGgSMBgGjQcBoEDAaBIwGAaNBwGgQMBoEjAYBo0HAaBAwGgSMBgGjQWADKjADoNkZ1YsAAAAASUVORK5CYII=\" y=\"-6.64\"/>\n   </g>\n  </g>\n </g>\n <defs>\n  <clipPath id=\"p2d0e409444\">\n   <rect height=\"217.44\" width=\"217.44\" x=\"7.2\" y=\"7.2\"/>\n  </clipPath>\n </defs>\n</svg>\n",
      "image/png": "[encoded data removed]"
     },
     "metadata": {
      "needs_background": "light"
     }
    }
   ],
   "source": [
    "import matplotlib.pyplot as plt\n",
    "import numpy as np\n",
    "image = np.zeros((300, 300, 3), np.uint8)\n",
    "image[:] = col\n",
    "plt.imshow(image)\n",
    "plt.axis(\"off\")"
   ]
  },
  {
   "cell_type": "code",
   "execution_count": 25,
   "metadata": {},
   "outputs": [
    {
     "output_type": "execute_result",
     "data": {
      "text/plain": [
       "[(4, 132, 100),\n",
       " (238, 65, 39),\n",
       " (223, 215, 204),\n",
       " (51, 154, 128),\n",
       " (120, 188, 171),\n",
       " (108, 180, 164)]"
      ]
     },
     "metadata": {},
     "execution_count": 25
    }
   ],
   "source": [
    "palette = color_thief.get_palette(color_count=6)\n",
    "palette"
   ]
  },
  {
   "cell_type": "code",
   "execution_count": 26,
   "metadata": {},
   "outputs": [
    {
     "output_type": "display_data",
     "data": {
      "text/plain": "<Figure size 432x288 with 5 Axes>",
      "image/svg+xml": "<?xml version=\"1.0\" encoding=\"utf-8\" standalone=\"no\"?>\n<!DOCTYPE svg PUBLIC \"-//W3C//DTD SVG 1.1//EN\"\n  \"http://www.w3.org/Graphics/SVG/1.1/DTD/svg11.dtd\">\n<svg height=\"72.124138pt\" version=\"1.1\" viewBox=\"0 0 349.2 72.124138\" width=\"349.2pt\" xmlns=\"http://www.w3.org/2000/svg\" xmlns:xlink=\"http://www.w3.org/1999/xlink\">\n <metadata>\n  <rdf:RDF xmlns:cc=\"http://creativecommons.org/ns#\" xmlns:dc=\"http://purl.org/dc/elements/1.1/\" xmlns:rdf=\"http://www.w3.org/1999/02/22-rdf-syntax-ns#\">\n   <cc:Work>\n    <dc:type rdf:resource=\"http://purl.org/dc/dcmitype/StillImage\"/>\n    <dc:date>2021-03-26T22:26:51.352148</dc:date>\n    <dc:format>image/svg+xml</dc:format>\n    <dc:creator>\n     <cc:Agent>\n      <dc:title>Matplotlib v3.4.0, https://matplotlib.org/</dc:title>\n     </cc:Agent>\n    </dc:creator>\n   </cc:Work>\n  </rdf:RDF>\n </metadata>\n <defs>\n  <style type=\"text/css\">*{stroke-linecap:butt;stroke-linejoin:round;}</style>\n </defs>\n <g id=\"figure_1\">\n  <g id=\"patch_1\">\n   <path d=\"M 0 72.124138 \nL 349.2 72.124138 \nL 349.2 0 \nL 0 0 \nz\n\" style=\"fill:none;\"/>\n  </g>\n  <g id=\"axes_1\">\n   <g clip-path=\"url(#pf811a61b1a)\">\n    <image height=\"58\" id=\"image0016e1d114\" transform=\"scale(1 -1)translate(0 -58)\" width=\"58\" x=\"7.2\" xlink:href=\"data:image/png;base64,\niVBORw0KGgoAAAANSUhEUgAAADoAAAA6CAYAAADhu0ooAAAAYUlEQVR4nO3PgQ2AIADAMCSc6in+LV9gUtcLtms99zt+YH4dcEqjmkY1jWoa1TSqaVTTqKZRTaOaRjWNahrVNKppVNOoplFNo5pGNY1qGtU0qmlU06imUU2jmkY1jWoa1WxqZwJfJ7gv2AAAAABJRU5ErkJggg==\" y=\"-6.924138\"/>\n   </g>\n  </g>\n  <g id=\"axes_2\">\n   <g clip-path=\"url(#p2d74f693fe)\">\n    <image height=\"58\" id=\"image55d6ec80a4\" transform=\"scale(1 -1)translate(0 -58)\" width=\"58\" x=\"76.468966\" xlink:href=\"data:image/png;base64,\niVBORw0KGgoAAAANSUhEUgAAADoAAAA6CAYAAADhu0ooAAAAY0lEQVR4nO3PARGAIADAQKQMOezfxQrSAu/efYLteu71jh+YXwec0qimUU2jmkY1jWoa1TSqaVTTqKZRTaOaRjWNahrVNKppVNOoplFNo5pGNY1qGtU0qmlU06imUU2jmkY1G0eoAsnP77b2AAAAAElFTkSuQmCC\" y=\"-6.924138\"/>\n   </g>\n  </g>\n  <g id=\"axes_3\">\n   <g clip-path=\"url(#p22a271c97e)\">\n    <image height=\"58\" id=\"image5f09310d0e\" transform=\"scale(1 -1)translate(0 -58)\" width=\"58\" x=\"145.737931\" xlink:href=\"data:image/png;base64,\niVBORw0KGgoAAAANSUhEUgAAADoAAAA6CAYAAADhu0ooAAAAY0lEQVR4nO3PwRGAIADAMGT/0fj7dBTZAu9iM0F7Pfd6xw/MrwNOaVTTqKZRTaOaRjWNahrVNKppVNOoplFNo5pGNY1qGtU0qmlU06imUU2jmkY1jWoa1TSqaVTTqKZRTaOaDST2A/WOaAISAAAAAElFTkSuQmCC\" y=\"-6.924138\"/>\n   </g>\n  </g>\n  <g id=\"axes_4\">\n   <g clip-path=\"url(#pd8c09fdd0f)\">\n    <image height=\"58\" id=\"image89d724f552\" transform=\"scale(1 -1)translate(0 -58)\" width=\"58\" x=\"215.006897\" xlink:href=\"data:image/png;base64,\niVBORw0KGgoAAAANSUhEUgAAADoAAAA6CAYAAADhu0ooAAAAYklEQVR4nO3PARGAIADAQKQSBc1hWWmBd+8+wXat537HD8yvA05pVNOoplFNo5pGNY1qGtU0qmlU06imUU2jmkY1jWoa1TSqaVTTqKZRTaOaRjWNahrVNKppVNOoplFNo5oNa24CwEqkxCkAAAAASUVORK5CYII=\" y=\"-6.924138\"/>\n   </g>\n  </g>\n  <g id=\"axes_5\">\n   <g clip-path=\"url(#p0822830c38)\">\n    <image height=\"58\" id=\"image1a2c294918\" transform=\"scale(1 -1)translate(0 -58)\" width=\"58\" x=\"284.275862\" xlink:href=\"data:image/png;base64,\niVBORw0KGgoAAAANSUhEUgAAADoAAAA6CAYAAADhu0ooAAAAYklEQVR4nO3PARGAIADAQCQ1naxgN2mBd+8+wXat537HD8yvA05pVNOoplFNo5pGNY1qGtU0qmlU06imUU2jmkY1jWoa1TSqaVTTqKZRTaOaRjWNahrVNKppVNOoplFNo5oNh1oDUh720wEAAAAASUVORK5CYII=\" y=\"-6.924138\"/>\n   </g>\n  </g>\n </g>\n <defs>\n  <clipPath id=\"pf811a61b1a\">\n   <rect height=\"57.724138\" width=\"57.724138\" x=\"7.2\" y=\"7.2\"/>\n  </clipPath>\n  <clipPath id=\"p2d74f693fe\">\n   <rect height=\"57.724138\" width=\"57.724138\" x=\"76.468966\" y=\"7.2\"/>\n  </clipPath>\n  <clipPath id=\"p22a271c97e\">\n   <rect height=\"57.724138\" width=\"57.724138\" x=\"145.737931\" y=\"7.2\"/>\n  </clipPath>\n  <clipPath id=\"pd8c09fdd0f\">\n   <rect height=\"57.724138\" width=\"57.724138\" x=\"215.006897\" y=\"7.2\"/>\n  </clipPath>\n  <clipPath id=\"p0822830c38\">\n   <rect height=\"57.724138\" width=\"57.724138\" x=\"284.275862\" y=\"7.2\"/>\n  </clipPath>\n </defs>\n</svg>\n",
      "image/png": "[encoded data removed]"
     },
     "metadata": {
      "needs_background": "light"
     }
    }
   ],
   "source": [
    "fig, axes = plt.subplots(1, 5)\n",
    "for ax, col in zip(axes, palette):\n",
    "    image = np.zeros((300, 300, 3), np.uint8)\n",
    "    image[:] = col\n",
    "    ax.imshow(image)\n",
    "    ax.axis(\"off\")"
   ]
  },
  {
   "cell_type": "code",
   "execution_count": null,
   "metadata": {},
   "outputs": [],
   "source": []
  }
 ]
}